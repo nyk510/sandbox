{
 "cells": [
  {
   "cell_type": "markdown",
   "metadata": {},
   "source": [
    "# Optuna\n",
    "\n",
    "[optuna](https://github.com/pfnet/optuna) はパラメータチューニングを自動的にやってくれるやつです"
   ]
  },
  {
   "cell_type": "code",
   "execution_count": 1,
   "metadata": {},
   "outputs": [],
   "source": [
    "import optuna\n",
    "import matplotlib.pyplot as plt\n",
    "\n",
    "%matplotlib inline"
   ]
  },
  {
   "cell_type": "code",
   "execution_count": 2,
   "metadata": {},
   "outputs": [],
   "source": [
    "def objective(trial):\n",
    "    x = trial.suggest_uniform('x', -10, 10)\n",
    "    return (x - 2.) ** 2"
   ]
  },
  {
   "cell_type": "code",
   "execution_count": 3,
   "metadata": {},
   "outputs": [],
   "source": [
    "study = optuna.create_study()"
   ]
  },
  {
   "cell_type": "code",
   "execution_count": 4,
   "metadata": {},
   "outputs": [
    {
     "name": "stderr",
     "output_type": "stream",
     "text": [
      "[I 2019-02-26 18:42:45,301] Finished a trial resulted in value: 19.106628488709823. Current best value is 19.106628488709823 with parameters: {'x': -2.371112957669914}.\n",
      "[I 2019-02-26 18:42:45,314] Finished a trial resulted in value: 1.5568410908112496. Current best value is 1.5568410908112496 with parameters: {'x': 0.7522656168834452}.\n",
      "[I 2019-02-26 18:42:45,327] Finished a trial resulted in value: 0.6326149671904089. Current best value is 0.6326149671904089 with parameters: {'x': 1.2046290380015066}.\n",
      "[I 2019-02-26 18:42:45,334] Finished a trial resulted in value: 130.30513448911924. Current best value is 0.6326149671904089 with parameters: {'x': 1.2046290380015066}.\n",
      "[I 2019-02-26 18:42:45,339] Finished a trial resulted in value: 28.58876040585548. Current best value is 0.6326149671904089 with parameters: {'x': 1.2046290380015066}.\n",
      "[I 2019-02-26 18:42:45,345] Finished a trial resulted in value: 55.51372484108158. Current best value is 0.6326149671904089 with parameters: {'x': 1.2046290380015066}.\n",
      "[I 2019-02-26 18:42:45,350] Finished a trial resulted in value: 24.281833795576475. Current best value is 0.6326149671904089 with parameters: {'x': 1.2046290380015066}.\n",
      "[I 2019-02-26 18:42:45,354] Finished a trial resulted in value: 0.35504560894538795. Current best value is 0.35504560894538795 with parameters: {'x': 1.404142962661858}.\n",
      "[I 2019-02-26 18:42:45,361] Finished a trial resulted in value: 109.18490295822119. Current best value is 0.35504560894538795 with parameters: {'x': 1.404142962661858}.\n",
      "[I 2019-02-26 18:42:45,365] Finished a trial resulted in value: 10.784008884641855. Current best value is 0.35504560894538795 with parameters: {'x': 1.404142962661858}.\n",
      "[I 2019-02-26 18:42:45,374] Finished a trial resulted in value: 51.08813994184495. Current best value is 0.35504560894538795 with parameters: {'x': 1.404142962661858}.\n",
      "[I 2019-02-26 18:42:45,383] Finished a trial resulted in value: 7.055628453359941. Current best value is 0.35504560894538795 with parameters: {'x': 1.404142962661858}.\n",
      "[I 2019-02-26 18:42:45,392] Finished a trial resulted in value: 2.0618546222663467. Current best value is 0.35504560894538795 with parameters: {'x': 1.404142962661858}.\n",
      "[I 2019-02-26 18:42:45,396] Finished a trial resulted in value: 58.60557121590696. Current best value is 0.35504560894538795 with parameters: {'x': 1.404142962661858}.\n",
      "[I 2019-02-26 18:42:45,403] Finished a trial resulted in value: 13.635303977774564. Current best value is 0.35504560894538795 with parameters: {'x': 1.404142962661858}.\n",
      "[I 2019-02-26 18:42:45,409] Finished a trial resulted in value: 35.56153541365858. Current best value is 0.35504560894538795 with parameters: {'x': 1.404142962661858}.\n",
      "[I 2019-02-26 18:42:45,414] Finished a trial resulted in value: 0.09914506009051129. Current best value is 0.09914506009051129 with parameters: {'x': 2.314873085687728}.\n",
      "[I 2019-02-26 18:42:45,421] Finished a trial resulted in value: 0.3166667359553321. Current best value is 0.09914506009051129 with parameters: {'x': 2.314873085687728}.\n",
      "[I 2019-02-26 18:42:45,427] Finished a trial resulted in value: 1.9980799491863024. Current best value is 0.09914506009051129 with parameters: {'x': 2.314873085687728}.\n",
      "[I 2019-02-26 18:42:45,433] Finished a trial resulted in value: 14.568848956793026. Current best value is 0.09914506009051129 with parameters: {'x': 2.314873085687728}.\n",
      "[I 2019-02-26 18:42:45,439] Finished a trial resulted in value: 5.8975762748156795. Current best value is 0.09914506009051129 with parameters: {'x': 2.314873085687728}.\n",
      "[I 2019-02-26 18:42:45,444] Finished a trial resulted in value: 0.5988738462613324. Current best value is 0.09914506009051129 with parameters: {'x': 2.314873085687728}.\n",
      "[I 2019-02-26 18:42:45,450] Finished a trial resulted in value: 39.97191242286325. Current best value is 0.09914506009051129 with parameters: {'x': 2.314873085687728}.\n",
      "[I 2019-02-26 18:42:45,459] Finished a trial resulted in value: 9.602228469481044. Current best value is 0.09914506009051129 with parameters: {'x': 2.314873085687728}.\n",
      "[I 2019-02-26 18:42:45,464] Finished a trial resulted in value: 19.90598803078393. Current best value is 0.09914506009051129 with parameters: {'x': 2.314873085687728}.\n",
      "[I 2019-02-26 18:42:45,473] Finished a trial resulted in value: 0.10081221443094238. Current best value is 0.09914506009051129 with parameters: {'x': 2.314873085687728}.\n",
      "[I 2019-02-26 18:42:45,482] Finished a trial resulted in value: 4.637669915641481. Current best value is 0.09914506009051129 with parameters: {'x': 2.314873085687728}.\n",
      "[I 2019-02-26 18:42:45,490] Finished a trial resulted in value: 60.22598416914326. Current best value is 0.09914506009051129 with parameters: {'x': 2.314873085687728}.\n",
      "[I 2019-02-26 18:42:45,498] Finished a trial resulted in value: 25.076617766512147. Current best value is 0.09914506009051129 with parameters: {'x': 2.314873085687728}.\n",
      "[I 2019-02-26 18:42:45,507] Finished a trial resulted in value: 5.217431544312116. Current best value is 0.09914506009051129 with parameters: {'x': 2.314873085687728}.\n",
      "[I 2019-02-26 18:42:45,514] Finished a trial resulted in value: 0.029534870202389926. Current best value is 0.029534870202389926 with parameters: {'x': 1.828142878522914}.\n",
      "[I 2019-02-26 18:42:45,522] Finished a trial resulted in value: 1.817609675239879. Current best value is 0.029534870202389926 with parameters: {'x': 1.828142878522914}.\n",
      "[I 2019-02-26 18:42:45,532] Finished a trial resulted in value: 36.25731068347465. Current best value is 0.029534870202389926 with parameters: {'x': 1.828142878522914}.\n",
      "[I 2019-02-26 18:42:45,543] Finished a trial resulted in value: 109.00282236119817. Current best value is 0.029534870202389926 with parameters: {'x': 1.828142878522914}.\n",
      "[I 2019-02-26 18:42:45,551] Finished a trial resulted in value: 35.91917429801038. Current best value is 0.029534870202389926 with parameters: {'x': 1.828142878522914}.\n",
      "[I 2019-02-26 18:42:45,560] Finished a trial resulted in value: 0.19787019801538222. Current best value is 0.029534870202389926 with parameters: {'x': 1.828142878522914}.\n",
      "[I 2019-02-26 18:42:45,567] Finished a trial resulted in value: 14.845676171438871. Current best value is 0.029534870202389926 with parameters: {'x': 1.828142878522914}.\n",
      "[I 2019-02-26 18:42:45,573] Finished a trial resulted in value: 22.583576831646305. Current best value is 0.029534870202389926 with parameters: {'x': 1.828142878522914}.\n",
      "[I 2019-02-26 18:42:45,582] Finished a trial resulted in value: 74.26998947848485. Current best value is 0.029534870202389926 with parameters: {'x': 1.828142878522914}.\n",
      "[I 2019-02-26 18:42:45,590] Finished a trial resulted in value: 1.9834927308774972. Current best value is 0.029534870202389926 with parameters: {'x': 1.828142878522914}.\n",
      "[I 2019-02-26 18:42:45,599] Finished a trial resulted in value: 6.347711338693653. Current best value is 0.029534870202389926 with parameters: {'x': 1.828142878522914}.\n",
      "[I 2019-02-26 18:42:45,609] Finished a trial resulted in value: 0.0008598422349755203. Current best value is 0.0008598422349755203 with parameters: {'x': 1.9706769333974852}.\n",
      "[I 2019-02-26 18:42:45,620] Finished a trial resulted in value: 24.507874225728756. Current best value is 0.0008598422349755203 with parameters: {'x': 1.9706769333974852}.\n",
      "[I 2019-02-26 18:42:45,630] Finished a trial resulted in value: 41.86001002851752. Current best value is 0.0008598422349755203 with parameters: {'x': 1.9706769333974852}.\n",
      "[I 2019-02-26 18:42:45,639] Finished a trial resulted in value: 81.10207809374828. Current best value is 0.0008598422349755203 with parameters: {'x': 1.9706769333974852}.\n",
      "[I 2019-02-26 18:42:45,649] Finished a trial resulted in value: 14.283829973844723. Current best value is 0.0008598422349755203 with parameters: {'x': 1.9706769333974852}.\n",
      "[I 2019-02-26 18:42:45,660] Finished a trial resulted in value: 0.17187361855240904. Current best value is 0.0008598422349755203 with parameters: {'x': 1.9706769333974852}.\n",
      "[I 2019-02-26 18:42:45,672] Finished a trial resulted in value: 9.070814638704631. Current best value is 0.0008598422349755203 with parameters: {'x': 1.9706769333974852}.\n"
     ]
    },
    {
     "name": "stderr",
     "output_type": "stream",
     "text": [
      "[I 2019-02-26 18:42:45,683] Finished a trial resulted in value: 2.7890130229825996. Current best value is 0.0008598422349755203 with parameters: {'x': 1.9706769333974852}.\n",
      "[I 2019-02-26 18:42:45,691] Finished a trial resulted in value: 9.283185404046337. Current best value is 0.0008598422349755203 with parameters: {'x': 1.9706769333974852}.\n",
      "[I 2019-02-26 18:42:45,702] Finished a trial resulted in value: 137.04236644896903. Current best value is 0.0008598422349755203 with parameters: {'x': 1.9706769333974852}.\n",
      "[I 2019-02-26 18:42:45,711] Finished a trial resulted in value: 40.565277245655594. Current best value is 0.0008598422349755203 with parameters: {'x': 1.9706769333974852}.\n",
      "[I 2019-02-26 18:42:45,726] Finished a trial resulted in value: 3.2266271603262275. Current best value is 0.0008598422349755203 with parameters: {'x': 1.9706769333974852}.\n",
      "[I 2019-02-26 18:42:45,736] Finished a trial resulted in value: 24.79003974862925. Current best value is 0.0008598422349755203 with parameters: {'x': 1.9706769333974852}.\n",
      "[I 2019-02-26 18:42:45,749] Finished a trial resulted in value: 15.722322225725767. Current best value is 0.0008598422349755203 with parameters: {'x': 1.9706769333974852}.\n",
      "[I 2019-02-26 18:42:45,760] Finished a trial resulted in value: 16.088467475656852. Current best value is 0.0008598422349755203 with parameters: {'x': 1.9706769333974852}.\n",
      "[I 2019-02-26 18:42:45,771] Finished a trial resulted in value: 48.739884887624775. Current best value is 0.0008598422349755203 with parameters: {'x': 1.9706769333974852}.\n",
      "[I 2019-02-26 18:42:45,781] Finished a trial resulted in value: 1.102322374947629. Current best value is 0.0008598422349755203 with parameters: {'x': 1.9706769333974852}.\n",
      "[I 2019-02-26 18:42:45,790] Finished a trial resulted in value: 0.06209545107056552. Current best value is 0.0008598422349755203 with parameters: {'x': 1.9706769333974852}.\n",
      "[I 2019-02-26 18:42:45,800] Finished a trial resulted in value: 51.21514182478437. Current best value is 0.0008598422349755203 with parameters: {'x': 1.9706769333974852}.\n",
      "[I 2019-02-26 18:42:45,809] Finished a trial resulted in value: 30.133170190574766. Current best value is 0.0008598422349755203 with parameters: {'x': 1.9706769333974852}.\n",
      "[I 2019-02-26 18:42:45,820] Finished a trial resulted in value: 4.50354055416958. Current best value is 0.0008598422349755203 with parameters: {'x': 1.9706769333974852}.\n",
      "[I 2019-02-26 18:42:45,830] Finished a trial resulted in value: 7.092789326466527. Current best value is 0.0008598422349755203 with parameters: {'x': 1.9706769333974852}.\n",
      "[I 2019-02-26 18:42:45,840] Finished a trial resulted in value: 0.917211306829845. Current best value is 0.0008598422349755203 with parameters: {'x': 1.9706769333974852}.\n",
      "[I 2019-02-26 18:42:45,850] Finished a trial resulted in value: 67.45608756064489. Current best value is 0.0008598422349755203 with parameters: {'x': 1.9706769333974852}.\n",
      "[I 2019-02-26 18:42:45,861] Finished a trial resulted in value: 0.007322146732485339. Current best value is 0.0008598422349755203 with parameters: {'x': 1.9706769333974852}.\n",
      "[I 2019-02-26 18:42:45,871] Finished a trial resulted in value: 3.650472904395749. Current best value is 0.0008598422349755203 with parameters: {'x': 1.9706769333974852}.\n",
      "[I 2019-02-26 18:42:45,881] Finished a trial resulted in value: 19.66214674138327. Current best value is 0.0008598422349755203 with parameters: {'x': 1.9706769333974852}.\n",
      "[I 2019-02-26 18:42:45,891] Finished a trial resulted in value: 10.714640624406234. Current best value is 0.0008598422349755203 with parameters: {'x': 1.9706769333974852}.\n",
      "[I 2019-02-26 18:42:45,902] Finished a trial resulted in value: 0.6658062333500377. Current best value is 0.0008598422349755203 with parameters: {'x': 1.9706769333974852}.\n",
      "[I 2019-02-26 18:42:45,914] Finished a trial resulted in value: 0.13574656316693753. Current best value is 0.0008598422349755203 with parameters: {'x': 1.9706769333974852}.\n",
      "[I 2019-02-26 18:42:45,925] Finished a trial resulted in value: 9.960356357394524. Current best value is 0.0008598422349755203 with parameters: {'x': 1.9706769333974852}.\n",
      "[I 2019-02-26 18:42:45,938] Finished a trial resulted in value: 3.3811112170814543. Current best value is 0.0008598422349755203 with parameters: {'x': 1.9706769333974852}.\n",
      "[I 2019-02-26 18:42:45,953] Finished a trial resulted in value: 0.9658850015847659. Current best value is 0.0008598422349755203 with parameters: {'x': 1.9706769333974852}.\n",
      "[I 2019-02-26 18:42:45,967] Finished a trial resulted in value: 30.703237603206905. Current best value is 0.0008598422349755203 with parameters: {'x': 1.9706769333974852}.\n",
      "[I 2019-02-26 18:42:45,981] Finished a trial resulted in value: 90.21534176578605. Current best value is 0.0008598422349755203 with parameters: {'x': 1.9706769333974852}.\n",
      "[I 2019-02-26 18:42:45,994] Finished a trial resulted in value: 0.01651010024204805. Current best value is 0.0008598422349755203 with parameters: {'x': 1.9706769333974852}.\n",
      "[I 2019-02-26 18:42:46,007] Finished a trial resulted in value: 0.024368978615923697. Current best value is 0.0008598422349755203 with parameters: {'x': 1.9706769333974852}.\n",
      "[I 2019-02-26 18:42:46,019] Finished a trial resulted in value: 7.2540264734522095. Current best value is 0.0008598422349755203 with parameters: {'x': 1.9706769333974852}.\n",
      "[I 2019-02-26 18:42:46,033] Finished a trial resulted in value: 1.3531725804247376. Current best value is 0.0008598422349755203 with parameters: {'x': 1.9706769333974852}.\n",
      "[I 2019-02-26 18:42:46,047] Finished a trial resulted in value: 19.555651868331243. Current best value is 0.0008598422349755203 with parameters: {'x': 1.9706769333974852}.\n",
      "[I 2019-02-26 18:42:46,058] Finished a trial resulted in value: 2.4084658054828947. Current best value is 0.0008598422349755203 with parameters: {'x': 1.9706769333974852}.\n",
      "[I 2019-02-26 18:42:46,071] Finished a trial resulted in value: 5.03345281493024. Current best value is 0.0008598422349755203 with parameters: {'x': 1.9706769333974852}.\n",
      "[I 2019-02-26 18:42:46,085] Finished a trial resulted in value: 18.744163889650093. Current best value is 0.0008598422349755203 with parameters: {'x': 1.9706769333974852}.\n",
      "[I 2019-02-26 18:42:46,097] Finished a trial resulted in value: 12.225530163697302. Current best value is 0.0008598422349755203 with parameters: {'x': 1.9706769333974852}.\n",
      "[I 2019-02-26 18:42:46,110] Finished a trial resulted in value: 10.869501670060831. Current best value is 0.0008598422349755203 with parameters: {'x': 1.9706769333974852}.\n",
      "[I 2019-02-26 18:42:46,123] Finished a trial resulted in value: 0.7287429945370778. Current best value is 0.0008598422349755203 with parameters: {'x': 1.9706769333974852}.\n",
      "[I 2019-02-26 18:42:46,135] Finished a trial resulted in value: 55.11245897454607. Current best value is 0.0008598422349755203 with parameters: {'x': 1.9706769333974852}.\n",
      "[I 2019-02-26 18:42:46,149] Finished a trial resulted in value: 7.81336862948467. Current best value is 0.0008598422349755203 with parameters: {'x': 1.9706769333974852}.\n",
      "[I 2019-02-26 18:42:46,163] Finished a trial resulted in value: 31.572086763159877. Current best value is 0.0008598422349755203 with parameters: {'x': 1.9706769333974852}.\n",
      "[I 2019-02-26 18:42:46,177] Finished a trial resulted in value: 41.21414527436738. Current best value is 0.0008598422349755203 with parameters: {'x': 1.9706769333974852}.\n",
      "[I 2019-02-26 18:42:46,189] Finished a trial resulted in value: 50.69340145481174. Current best value is 0.0008598422349755203 with parameters: {'x': 1.9706769333974852}.\n",
      "[I 2019-02-26 18:42:46,203] Finished a trial resulted in value: 7.330447900045631. Current best value is 0.0008598422349755203 with parameters: {'x': 1.9706769333974852}.\n",
      "[I 2019-02-26 18:42:46,218] Finished a trial resulted in value: 27.862200647628946. Current best value is 0.0008598422349755203 with parameters: {'x': 1.9706769333974852}.\n",
      "[I 2019-02-26 18:42:46,234] Finished a trial resulted in value: 46.05133174917958. Current best value is 0.0008598422349755203 with parameters: {'x': 1.9706769333974852}.\n"
     ]
    },
    {
     "name": "stderr",
     "output_type": "stream",
     "text": [
      "[I 2019-02-26 18:42:46,253] Finished a trial resulted in value: 4.21589512804267e-06. Current best value is 4.21589512804267e-06 with parameters: {'x': 2.002053264505134}.\n",
      "[I 2019-02-26 18:42:46,271] Finished a trial resulted in value: 2.184235587605056. Current best value is 4.21589512804267e-06 with parameters: {'x': 2.002053264505134}.\n",
      "[I 2019-02-26 18:42:46,290] Finished a trial resulted in value: 108.86801218858982. Current best value is 4.21589512804267e-06 with parameters: {'x': 2.002053264505134}.\n",
      "[I 2019-02-26 18:42:46,304] Finished a trial resulted in value: 61.434785051937084. Current best value is 4.21589512804267e-06 with parameters: {'x': 2.002053264505134}.\n",
      "[I 2019-02-26 18:42:46,318] Finished a trial resulted in value: 13.573328493319114. Current best value is 4.21589512804267e-06 with parameters: {'x': 2.002053264505134}.\n"
     ]
    }
   ],
   "source": [
    "study.optimize(objective, n_trials=100)"
   ]
  },
  {
   "cell_type": "code",
   "execution_count": 5,
   "metadata": {},
   "outputs": [
    {
     "data": {
      "text/plain": [
       "{'x': 2.002053264505134}"
      ]
     },
     "execution_count": 5,
     "metadata": {},
     "output_type": "execute_result"
    }
   ],
   "source": [
    "study.best_params"
   ]
  },
  {
   "cell_type": "code",
   "execution_count": 6,
   "metadata": {},
   "outputs": [],
   "source": [
    "df = study.trials_dataframe()"
   ]
  },
  {
   "cell_type": "code",
   "execution_count": 7,
   "metadata": {},
   "outputs": [
    {
     "data": {
      "text/plain": [
       "MultiIndex(levels=[['datetime_complete', 'datetime_start', 'params', 'state', 'trial_id', 'value'], ['', 'x']],\n",
       "           codes=[[4, 3, 5, 1, 0, 2], [0, 0, 0, 0, 0, 1]])"
      ]
     },
     "execution_count": 7,
     "metadata": {},
     "output_type": "execute_result"
    }
   ],
   "source": [
    "df.columns"
   ]
  },
  {
   "cell_type": "markdown",
   "metadata": {},
   "source": [
    "## trial object\n",
    "\n",
    "trial が持つ関数 `suggest_categorical`, `suggest_uniform`, `suggest_loguniform`, `suggest_discrete_uniform`"
   ]
  },
  {
   "cell_type": "markdown",
   "metadata": {},
   "source": [
    "## てすと\n",
    "\n",
    "scikit learn で実験する"
   ]
  },
  {
   "cell_type": "code",
   "execution_count": 8,
   "metadata": {},
   "outputs": [],
   "source": [
    "from sklearn.datasets import load_boston"
   ]
  },
  {
   "cell_type": "code",
   "execution_count": 9,
   "metadata": {},
   "outputs": [],
   "source": [
    "data = load_boston()"
   ]
  },
  {
   "cell_type": "code",
   "execution_count": 10,
   "metadata": {},
   "outputs": [
    {
     "data": {
      "text/plain": [
       "dict_keys(['filename', 'DESCR', 'target', 'feature_names', 'data'])"
      ]
     },
     "execution_count": 10,
     "metadata": {},
     "output_type": "execute_result"
    }
   ],
   "source": [
    "data.keys()"
   ]
  },
  {
   "cell_type": "code",
   "execution_count": 11,
   "metadata": {},
   "outputs": [],
   "source": [
    "x, y = data['data'], data['target']"
   ]
  },
  {
   "cell_type": "code",
   "execution_count": 12,
   "metadata": {},
   "outputs": [
    {
     "data": {
      "text/plain": [
       "(506, 13)"
      ]
     },
     "execution_count": 12,
     "metadata": {},
     "output_type": "execute_result"
    }
   ],
   "source": [
    "x.shape"
   ]
  },
  {
   "cell_type": "markdown",
   "metadata": {},
   "source": [
    "まずは SVR の初期パラメータでチューニングしてみる"
   ]
  },
  {
   "cell_type": "code",
   "execution_count": 13,
   "metadata": {},
   "outputs": [],
   "source": [
    "from sklearn.svm import SVR\n",
    "from sklearn.preprocessing import StandardScaler\n",
    "from sklearn.metrics import mean_squared_error\n",
    "from sklearn.model_selection import train_test_split, KFold"
   ]
  },
  {
   "cell_type": "code",
   "execution_count": 14,
   "metadata": {},
   "outputs": [],
   "source": [
    "score = 0\n",
    "n_train = 5\n",
    "for idx_train, idx_valid in KFold(n_train, random_state=19).split(x, y):\n",
    "    x_train, y_train = x[idx_train], y[idx_train]\n",
    "    x_valid, y_valid = x[idx_valid], y[idx_valid]\n",
    "    scalar = StandardScaler()\n",
    "    x_train = scalar.fit_transform(x_train)\n",
    "    x_valid = scalar.transform(x_valid)\n",
    "    clf = SVR()\n",
    "    clf.fit(x_train, y_train)    \n",
    "    pred = clf.predict(x_valid)\n",
    "    score += mean_squared_error(y_valid, pred) ** .5"
   ]
  },
  {
   "cell_type": "code",
   "execution_count": 15,
   "metadata": {},
   "outputs": [
    {
     "name": "stdout",
     "output_type": "stream",
     "text": [
      "default SVR: 6.56728896457391\n"
     ]
    }
   ],
   "source": [
    "print('default SVR: {}'.format(score / n_train))"
   ]
  },
  {
   "cell_type": "code",
   "execution_count": 16,
   "metadata": {},
   "outputs": [],
   "source": [
    "def svm_objective(trial):\n",
    "    x, y = load_boston(return_X_y=True)\n",
    "    \n",
    "    use_scaling = True\n",
    "    params = {\n",
    "        'kernel': trial.suggest_categorical('kernel', ['rbf', 'linear', 'sigmoid', 'poly']),\n",
    "        'C': trial.suggest_loguniform('C', 1e-3, 1000.),\n",
    "        'epsilon': trial.suggest_loguniform('epsilon', 1e-3, 10.)\n",
    "    }\n",
    "    \n",
    "    if params.get('kernel') == 'poly':\n",
    "        params['degree'] = trial.suggest_int('degree', 1, 7)\n",
    "    \n",
    "    score = 0\n",
    "    n_train = 5\n",
    "    for idx_train, idx_valid in KFold(n_train, random_state=19).split(x, y):\n",
    "        x_train, y_train = x[idx_train], y[idx_train]\n",
    "        x_valid, y_valid = x[idx_valid], y[idx_valid]\n",
    "        if use_scaling:\n",
    "            scalar = StandardScaler()\n",
    "            x_train = scalar.fit_transform(x_train)\n",
    "            x_valid = scalar.transform(x_valid)\n",
    "        clf = SVR(**params)\n",
    "        clf.fit(x_train, y_train)    \n",
    "        pred = clf.predict(x_valid)\n",
    "        score += mean_squared_error(y_valid, pred) ** .5\n",
    "    \n",
    "    return score / n_train"
   ]
  },
  {
   "cell_type": "code",
   "execution_count": 17,
   "metadata": {},
   "outputs": [],
   "source": [
    "study = optuna.create_study()"
   ]
  },
  {
   "cell_type": "code",
   "execution_count": 18,
   "metadata": {
    "scrolled": true
   },
   "outputs": [
    {
     "name": "stderr",
     "output_type": "stream",
     "text": [
      "[I 2019-02-26 18:42:48,269] Finished a trial resulted in value: 8.39403867281028. Current best value is 8.39403867281028 with parameters: {'epsilon': 0.010691030690599835, 'kernel': 'sigmoid', 'C': 0.02089644139225051}.\n",
      "[I 2019-02-26 18:42:48,341] Finished a trial resulted in value: 7.153636268426899. Current best value is 7.153636268426899 with parameters: {'epsilon': 0.009006623748755863, 'kernel': 'sigmoid', 'C': 1.170804814920216}.\n",
      "[I 2019-02-26 18:42:48,387] Finished a trial resulted in value: 5.771970283131902. Current best value is 5.771970283131902 with parameters: {'epsilon': 0.0014505923809048295, 'kernel': 'linear', 'C': 0.024590131848390567}.\n",
      "[I 2019-02-26 18:42:48,446] Finished a trial resulted in value: 7.909512239325636. Current best value is 5.771970283131902 with parameters: {'epsilon': 0.0014505923809048295, 'kernel': 'linear', 'C': 0.024590131848390567}.\n",
      "[I 2019-02-26 18:42:48,505] Finished a trial resulted in value: 8.736700882213182. Current best value is 5.771970283131902 with parameters: {'epsilon': 0.0014505923809048295, 'kernel': 'linear', 'C': 0.024590131848390567}.\n",
      "[I 2019-02-26 18:42:48,589] Finished a trial resulted in value: 5.818956233313142. Current best value is 5.771970283131902 with parameters: {'epsilon': 0.0014505923809048295, 'kernel': 'linear', 'C': 0.024590131848390567}.\n",
      "[I 2019-02-26 18:42:48,685] Finished a trial resulted in value: 26.205351183912956. Current best value is 5.771970283131902 with parameters: {'epsilon': 0.0014505923809048295, 'kernel': 'linear', 'C': 0.024590131848390567}.\n",
      "[I 2019-02-26 18:42:48,783] Finished a trial resulted in value: 5.445512623588525. Current best value is 5.445512623588525 with parameters: {'epsilon': 0.014734412238150524, 'kernel': 'rbf', 'C': 9.483774084063331}.\n",
      "[I 2019-02-26 18:42:48,844] Finished a trial resulted in value: 6.053100293031109. Current best value is 5.445512623588525 with parameters: {'epsilon': 0.014734412238150524, 'kernel': 'rbf', 'C': 9.483774084063331}.\n",
      "[I 2019-02-26 18:42:48,913] Finished a trial resulted in value: 5.509621794000212. Current best value is 5.445512623588525 with parameters: {'epsilon': 0.014734412238150524, 'kernel': 'rbf', 'C': 9.483774084063331}.\n",
      "[I 2019-02-26 18:42:50,132] Finished a trial resulted in value: 6.536386389266411. Current best value is 5.445512623588525 with parameters: {'epsilon': 0.014734412238150524, 'kernel': 'rbf', 'C': 9.483774084063331}.\n",
      "[I 2019-02-26 18:42:50,185] Finished a trial resulted in value: 59.769041505283994. Current best value is 5.445512623588525 with parameters: {'epsilon': 0.014734412238150524, 'kernel': 'rbf', 'C': 9.483774084063331}.\n",
      "[I 2019-02-26 18:42:50,253] Finished a trial resulted in value: 9.384688952606513. Current best value is 5.445512623588525 with parameters: {'epsilon': 0.014734412238150524, 'kernel': 'rbf', 'C': 9.483774084063331}.\n",
      "[I 2019-02-26 18:42:50,583] Finished a trial resulted in value: 118.29650683696855. Current best value is 5.445512623588525 with parameters: {'epsilon': 0.014734412238150524, 'kernel': 'rbf', 'C': 9.483774084063331}.\n",
      "[I 2019-02-26 18:42:51,358] Finished a trial resulted in value: 5.548515009628652. Current best value is 5.445512623588525 with parameters: {'epsilon': 0.014734412238150524, 'kernel': 'rbf', 'C': 9.483774084063331}.\n",
      "[I 2019-02-26 18:42:51,758] Finished a trial resulted in value: 6.024753600571479. Current best value is 5.445512623588525 with parameters: {'epsilon': 0.014734412238150524, 'kernel': 'rbf', 'C': 9.483774084063331}.\n",
      "[I 2019-02-26 18:42:51,823] Finished a trial resulted in value: 9.4034187664292. Current best value is 5.445512623588525 with parameters: {'epsilon': 0.014734412238150524, 'kernel': 'rbf', 'C': 9.483774084063331}.\n",
      "[I 2019-02-26 18:42:51,951] Finished a trial resulted in value: 5.528777976735736. Current best value is 5.445512623588525 with parameters: {'epsilon': 0.014734412238150524, 'kernel': 'rbf', 'C': 9.483774084063331}.\n",
      "[I 2019-02-26 18:42:52,023] Finished a trial resulted in value: 5.7358706295581765. Current best value is 5.445512623588525 with parameters: {'epsilon': 0.014734412238150524, 'kernel': 'rbf', 'C': 9.483774084063331}.\n",
      "[I 2019-02-26 18:42:52,097] Finished a trial resulted in value: 5.52568307239868. Current best value is 5.445512623588525 with parameters: {'epsilon': 0.014734412238150524, 'kernel': 'rbf', 'C': 9.483774084063331}.\n",
      "[I 2019-02-26 18:42:55,150] Finished a trial resulted in value: 5.539430171185717. Current best value is 5.445512623588525 with parameters: {'epsilon': 0.014734412238150524, 'kernel': 'rbf', 'C': 9.483774084063331}.\n",
      "[I 2019-02-26 18:42:55,393] Finished a trial resulted in value: 5.63372777257416. Current best value is 5.445512623588525 with parameters: {'epsilon': 0.014734412238150524, 'kernel': 'rbf', 'C': 9.483774084063331}.\n",
      "[I 2019-02-26 18:42:55,469] Finished a trial resulted in value: 6.544239198723526. Current best value is 5.445512623588525 with parameters: {'epsilon': 0.014734412238150524, 'kernel': 'rbf', 'C': 9.483774084063331}.\n",
      "[I 2019-02-26 18:42:55,764] Finished a trial resulted in value: 179.11322203171747. Current best value is 5.445512623588525 with parameters: {'epsilon': 0.014734412238150524, 'kernel': 'rbf', 'C': 9.483774084063331}.\n",
      "[I 2019-02-26 18:42:55,813] Finished a trial resulted in value: 6.259150129359059. Current best value is 5.445512623588525 with parameters: {'epsilon': 0.014734412238150524, 'kernel': 'rbf', 'C': 9.483774084063331}.\n",
      "[I 2019-02-26 18:42:55,899] Finished a trial resulted in value: 5.52546545444309. Current best value is 5.445512623588525 with parameters: {'epsilon': 0.014734412238150524, 'kernel': 'rbf', 'C': 9.483774084063331}.\n",
      "[I 2019-02-26 18:42:55,976] Finished a trial resulted in value: 5.406667555388433. Current best value is 5.406667555388433 with parameters: {'epsilon': 0.004653897454822331, 'kernel': 'linear', 'C': 0.260345726522815}.\n",
      "[I 2019-02-26 18:42:56,042] Finished a trial resulted in value: 7.733140753010526. Current best value is 5.406667555388433 with parameters: {'epsilon': 0.004653897454822331, 'kernel': 'linear', 'C': 0.260345726522815}.\n",
      "[I 2019-02-26 18:42:56,114] Finished a trial resulted in value: 9.054992676667002. Current best value is 5.406667555388433 with parameters: {'epsilon': 0.004653897454822331, 'kernel': 'linear', 'C': 0.260345726522815}.\n",
      "[I 2019-02-26 18:42:56,173] Finished a trial resulted in value: 5.487399545335378. Current best value is 5.406667555388433 with parameters: {'epsilon': 0.004653897454822331, 'kernel': 'linear', 'C': 0.260345726522815}.\n",
      "[I 2019-02-26 18:42:56,254] Finished a trial resulted in value: 8.812422147896692. Current best value is 5.406667555388433 with parameters: {'epsilon': 0.004653897454822331, 'kernel': 'linear', 'C': 0.260345726522815}.\n",
      "[I 2019-02-26 18:42:56,324] Finished a trial resulted in value: 8.668365702791593. Current best value is 5.406667555388433 with parameters: {'epsilon': 0.004653897454822331, 'kernel': 'linear', 'C': 0.260345726522815}.\n",
      "[I 2019-02-26 18:42:56,452] Finished a trial resulted in value: 53.322086790291486. Current best value is 5.406667555388433 with parameters: {'epsilon': 0.004653897454822331, 'kernel': 'linear', 'C': 0.260345726522815}.\n",
      "[I 2019-02-26 18:42:56,520] Finished a trial resulted in value: 7.2569966840338695. Current best value is 5.406667555388433 with parameters: {'epsilon': 0.004653897454822331, 'kernel': 'linear', 'C': 0.260345726522815}.\n",
      "[I 2019-02-26 18:42:56,577] Finished a trial resulted in value: 5.956294352192801. Current best value is 5.406667555388433 with parameters: {'epsilon': 0.004653897454822331, 'kernel': 'linear', 'C': 0.260345726522815}.\n",
      "[I 2019-02-26 18:42:56,651] Finished a trial resulted in value: 6.933743311792273. Current best value is 5.406667555388433 with parameters: {'epsilon': 0.004653897454822331, 'kernel': 'linear', 'C': 0.260345726522815}.\n",
      "[I 2019-02-26 18:42:56,719] Finished a trial resulted in value: 8.983739608023345. Current best value is 5.406667555388433 with parameters: {'epsilon': 0.004653897454822331, 'kernel': 'linear', 'C': 0.260345726522815}.\n"
     ]
    },
    {
     "name": "stderr",
     "output_type": "stream",
     "text": [
      "[I 2019-02-26 18:42:56,815] Finished a trial resulted in value: 5.500905729277157. Current best value is 5.406667555388433 with parameters: {'epsilon': 0.004653897454822331, 'kernel': 'linear', 'C': 0.260345726522815}.\n",
      "[I 2019-02-26 18:42:56,887] Finished a trial resulted in value: 7.26997518888856. Current best value is 5.406667555388433 with parameters: {'epsilon': 0.004653897454822331, 'kernel': 'linear', 'C': 0.260345726522815}.\n",
      "[I 2019-02-26 18:42:56,943] Finished a trial resulted in value: 9.11448679477228. Current best value is 5.406667555388433 with parameters: {'epsilon': 0.004653897454822331, 'kernel': 'linear', 'C': 0.260345726522815}.\n",
      "[I 2019-02-26 18:42:57,026] Finished a trial resulted in value: 338.15145045938823. Current best value is 5.406667555388433 with parameters: {'epsilon': 0.004653897454822331, 'kernel': 'linear', 'C': 0.260345726522815}.\n",
      "[I 2019-02-26 18:42:57,106] Finished a trial resulted in value: 5.714290667264847. Current best value is 5.406667555388433 with parameters: {'epsilon': 0.004653897454822331, 'kernel': 'linear', 'C': 0.260345726522815}.\n",
      "[I 2019-02-26 18:42:57,449] Finished a trial resulted in value: 5.520146291684258. Current best value is 5.406667555388433 with parameters: {'epsilon': 0.004653897454822331, 'kernel': 'linear', 'C': 0.260345726522815}.\n",
      "[I 2019-02-26 18:43:02,064] Finished a trial resulted in value: 98.94650350532632. Current best value is 5.406667555388433 with parameters: {'epsilon': 0.004653897454822331, 'kernel': 'linear', 'C': 0.260345726522815}.\n",
      "[I 2019-02-26 18:43:02,214] Finished a trial resulted in value: 5.391509410534208. Current best value is 5.391509410534208 with parameters: {'epsilon': 0.08932154021005673, 'kernel': 'rbf', 'C': 35.91438097142089}.\n",
      "[I 2019-02-26 18:43:03,248] Finished a trial resulted in value: 6.441769392632561. Current best value is 5.391509410534208 with parameters: {'epsilon': 0.08932154021005673, 'kernel': 'rbf', 'C': 35.91438097142089}.\n",
      "[I 2019-02-26 18:43:03,998] Finished a trial resulted in value: 5.533857986820566. Current best value is 5.391509410534208 with parameters: {'epsilon': 0.08932154021005673, 'kernel': 'rbf', 'C': 35.91438097142089}.\n",
      "[I 2019-02-26 18:43:04,433] Finished a trial resulted in value: 6.084461415530852. Current best value is 5.391509410534208 with parameters: {'epsilon': 0.08932154021005673, 'kernel': 'rbf', 'C': 35.91438097142089}.\n",
      "[I 2019-02-26 18:43:04,517] Finished a trial resulted in value: 5.481215129117259. Current best value is 5.391509410534208 with parameters: {'epsilon': 0.08932154021005673, 'kernel': 'rbf', 'C': 35.91438097142089}.\n",
      "[I 2019-02-26 18:43:04,599] Finished a trial resulted in value: 9.58452320351478. Current best value is 5.391509410534208 with parameters: {'epsilon': 0.08932154021005673, 'kernel': 'rbf', 'C': 35.91438097142089}.\n"
     ]
    }
   ],
   "source": [
    "study.optimize(svm_objective, n_trials=50)"
   ]
  },
  {
   "cell_type": "code",
   "execution_count": 19,
   "metadata": {},
   "outputs": [
    {
     "data": {
      "text/html": [
       "<div>\n",
       "<style scoped>\n",
       "    .dataframe tbody tr th:only-of-type {\n",
       "        vertical-align: middle;\n",
       "    }\n",
       "\n",
       "    .dataframe tbody tr th {\n",
       "        vertical-align: top;\n",
       "    }\n",
       "\n",
       "    .dataframe thead tr th {\n",
       "        text-align: left;\n",
       "    }\n",
       "</style>\n",
       "<table border=\"1\" class=\"dataframe\">\n",
       "  <thead>\n",
       "    <tr>\n",
       "      <th></th>\n",
       "      <th>trial_id</th>\n",
       "      <th>state</th>\n",
       "      <th>value</th>\n",
       "      <th>datetime_start</th>\n",
       "      <th>datetime_complete</th>\n",
       "      <th colspan=\"4\" halign=\"left\">params</th>\n",
       "    </tr>\n",
       "    <tr>\n",
       "      <th></th>\n",
       "      <th></th>\n",
       "      <th></th>\n",
       "      <th></th>\n",
       "      <th></th>\n",
       "      <th></th>\n",
       "      <th>C</th>\n",
       "      <th>degree</th>\n",
       "      <th>epsilon</th>\n",
       "      <th>kernel</th>\n",
       "    </tr>\n",
       "  </thead>\n",
       "  <tbody>\n",
       "    <tr>\n",
       "      <th>44</th>\n",
       "      <td>44</td>\n",
       "      <td>TrialState.COMPLETE</td>\n",
       "      <td>5.391509</td>\n",
       "      <td>2019-02-26 18:43:02.066097</td>\n",
       "      <td>2019-02-26 18:43:02.210751</td>\n",
       "      <td>35.914381</td>\n",
       "      <td>NaN</td>\n",
       "      <td>0.089322</td>\n",
       "      <td>rbf</td>\n",
       "    </tr>\n",
       "    <tr>\n",
       "      <th>26</th>\n",
       "      <td>26</td>\n",
       "      <td>TrialState.COMPLETE</td>\n",
       "      <td>5.406668</td>\n",
       "      <td>2019-02-26 18:42:55.901319</td>\n",
       "      <td>2019-02-26 18:42:55.974450</td>\n",
       "      <td>0.260346</td>\n",
       "      <td>NaN</td>\n",
       "      <td>0.004654</td>\n",
       "      <td>linear</td>\n",
       "    </tr>\n",
       "    <tr>\n",
       "      <th>7</th>\n",
       "      <td>7</td>\n",
       "      <td>TrialState.COMPLETE</td>\n",
       "      <td>5.445513</td>\n",
       "      <td>2019-02-26 18:42:48.686714</td>\n",
       "      <td>2019-02-26 18:42:48.782667</td>\n",
       "      <td>9.483774</td>\n",
       "      <td>NaN</td>\n",
       "      <td>0.014734</td>\n",
       "      <td>rbf</td>\n",
       "    </tr>\n",
       "    <tr>\n",
       "      <th>48</th>\n",
       "      <td>48</td>\n",
       "      <td>TrialState.COMPLETE</td>\n",
       "      <td>5.481215</td>\n",
       "      <td>2019-02-26 18:43:04.434350</td>\n",
       "      <td>2019-02-26 18:43:04.513742</td>\n",
       "      <td>0.751952</td>\n",
       "      <td>NaN</td>\n",
       "      <td>0.024946</td>\n",
       "      <td>linear</td>\n",
       "    </tr>\n",
       "    <tr>\n",
       "      <th>29</th>\n",
       "      <td>29</td>\n",
       "      <td>TrialState.COMPLETE</td>\n",
       "      <td>5.487400</td>\n",
       "      <td>2019-02-26 18:42:56.115402</td>\n",
       "      <td>2019-02-26 18:42:56.171247</td>\n",
       "      <td>0.067121</td>\n",
       "      <td>NaN</td>\n",
       "      <td>0.004336</td>\n",
       "      <td>linear</td>\n",
       "    </tr>\n",
       "  </tbody>\n",
       "</table>\n",
       "</div>"
      ],
      "text/plain": [
       "   trial_id                state     value             datetime_start  \\\n",
       "                                                                        \n",
       "44       44  TrialState.COMPLETE  5.391509 2019-02-26 18:43:02.066097   \n",
       "26       26  TrialState.COMPLETE  5.406668 2019-02-26 18:42:55.901319   \n",
       "7         7  TrialState.COMPLETE  5.445513 2019-02-26 18:42:48.686714   \n",
       "48       48  TrialState.COMPLETE  5.481215 2019-02-26 18:43:04.434350   \n",
       "29       29  TrialState.COMPLETE  5.487400 2019-02-26 18:42:56.115402   \n",
       "\n",
       "            datetime_complete     params                           \n",
       "                                       C degree   epsilon  kernel  \n",
       "44 2019-02-26 18:43:02.210751  35.914381    NaN  0.089322     rbf  \n",
       "26 2019-02-26 18:42:55.974450   0.260346    NaN  0.004654  linear  \n",
       "7  2019-02-26 18:42:48.782667   9.483774    NaN  0.014734     rbf  \n",
       "48 2019-02-26 18:43:04.513742   0.751952    NaN  0.024946  linear  \n",
       "29 2019-02-26 18:42:56.171247   0.067121    NaN  0.004336  linear  "
      ]
     },
     "execution_count": 19,
     "metadata": {},
     "output_type": "execute_result"
    }
   ],
   "source": [
    "study.trials_dataframe().sort_values('value').head()"
   ]
  },
  {
   "cell_type": "code",
   "execution_count": 20,
   "metadata": {},
   "outputs": [],
   "source": [
    "import lightgbm as lgbm"
   ]
  },
  {
   "cell_type": "code",
   "execution_count": 21,
   "metadata": {},
   "outputs": [],
   "source": [
    "score = 0\n",
    "n_train = 5\n",
    "for idx_train, idx_valid in KFold(n_train, random_state=19).split(x, y):\n",
    "    x_train, y_train = x[idx_train], y[idx_train]\n",
    "    x_valid, y_valid = x[idx_valid], y[idx_valid]\n",
    "    clf = lgbm.LGBMRegressor()\n",
    "    clf.fit(x_train, y_train)    \n",
    "    pred = clf.predict(x_valid)\n",
    "    score += mean_squared_error(y_valid, pred) ** .5"
   ]
  },
  {
   "cell_type": "code",
   "execution_count": 22,
   "metadata": {},
   "outputs": [
    {
     "data": {
      "text/plain": [
       "4.571009019613884"
      ]
     },
     "execution_count": 22,
     "metadata": {},
     "output_type": "execute_result"
    }
   ],
   "source": [
    "score / n_train"
   ]
  },
  {
   "cell_type": "code",
   "execution_count": 23,
   "metadata": {},
   "outputs": [],
   "source": [
    "def lgbm_objective(trial):\n",
    "    x, y = load_boston(return_X_y=True)\n",
    "    params = {\n",
    "        'n_estimators': 200,\n",
    "        'reg_lambda': trial.suggest_loguniform('reg_lambda', 1e-3, 1e2),\n",
    "        'reg_alpha': trial.suggest_loguniform('reg_alpha', 1e-3, 1e2),\n",
    "        'subsample_bytree': trial.suggest_uniform('subsample_bytree', .5, 1.),\n",
    "        'boosting_type': trial.suggest_categorical('boosting', ['gbdt', 'dart', 'goss']),\n",
    "    }\n",
    "    n_train = 5\n",
    "    score = .0\n",
    "    for idx_train, idx_valid in KFold(n_train, random_state=19).split(x, y):\n",
    "        x_train, y_train = x[idx_train], y[idx_train]\n",
    "        x_valid, y_valid = x[idx_valid], y[idx_valid]\n",
    "        clf = lgbm.LGBMRegressor(**params)\n",
    "        clf.fit(x_train, y_train, verbose=False)    \n",
    "        pred = clf.predict(x_valid)\n",
    "        score += mean_squared_error(y_valid, pred) ** .5\n",
    "    return score / n_train"
   ]
  },
  {
   "cell_type": "code",
   "execution_count": 24,
   "metadata": {},
   "outputs": [],
   "source": [
    "study_lgbm = optuna.create_study()"
   ]
  },
  {
   "cell_type": "code",
   "execution_count": 25,
   "metadata": {
    "scrolled": true
   },
   "outputs": [
    {
     "name": "stderr",
     "output_type": "stream",
     "text": [
      "[I 2019-02-26 18:43:05,485] Finished a trial resulted in value: 4.830657622287058. Current best value is 4.830657622287058 with parameters: {'reg_lambda': 27.077133750709667, 'subsample_bytree': 0.6353327757639637, 'reg_alpha': 0.2821206716700904, 'boosting': 'goss'}.\n",
      "[I 2019-02-26 18:43:05,681] Finished a trial resulted in value: 5.737959293038861e+36. Current best value is 4.830657622287058 with parameters: {'reg_lambda': 27.077133750709667, 'subsample_bytree': 0.6353327757639637, 'reg_alpha': 0.2821206716700904, 'boosting': 'goss'}.\n",
      "[I 2019-02-26 18:43:05,911] Finished a trial resulted in value: 1.2973376910618233e+30. Current best value is 4.830657622287058 with parameters: {'reg_lambda': 27.077133750709667, 'subsample_bytree': 0.6353327757639637, 'reg_alpha': 0.2821206716700904, 'boosting': 'goss'}.\n",
      "[I 2019-02-26 18:43:06,434] Finished a trial resulted in value: 4.4983267531119155. Current best value is 4.4983267531119155 with parameters: {'reg_lambda': 0.01696374257625363, 'subsample_bytree': 0.7938117934941191, 'reg_alpha': 0.10442189974167153, 'boosting': 'dart'}.\n",
      "[I 2019-02-26 18:43:06,629] Finished a trial resulted in value: 2.8201603318962287e+37. Current best value is 4.4983267531119155 with parameters: {'reg_lambda': 0.01696374257625363, 'subsample_bytree': 0.7938117934941191, 'reg_alpha': 0.10442189974167153, 'boosting': 'dart'}.\n",
      "[I 2019-02-26 18:43:07,000] Finished a trial resulted in value: 4.599175119981116. Current best value is 4.4983267531119155 with parameters: {'reg_lambda': 0.01696374257625363, 'subsample_bytree': 0.7938117934941191, 'reg_alpha': 0.10442189974167153, 'boosting': 'dart'}.\n",
      "[I 2019-02-26 18:43:07,228] Finished a trial resulted in value: 3.2090475910106383e+37. Current best value is 4.4983267531119155 with parameters: {'reg_lambda': 0.01696374257625363, 'subsample_bytree': 0.7938117934941191, 'reg_alpha': 0.10442189974167153, 'boosting': 'dart'}.\n",
      "[I 2019-02-26 18:43:07,800] Finished a trial resulted in value: 4.626134943460921. Current best value is 4.4983267531119155 with parameters: {'reg_lambda': 0.01696374257625363, 'subsample_bytree': 0.7938117934941191, 'reg_alpha': 0.10442189974167153, 'boosting': 'dart'}.\n",
      "[I 2019-02-26 18:43:07,954] Finished a trial resulted in value: 2.0998817278566764e+37. Current best value is 4.4983267531119155 with parameters: {'reg_lambda': 0.01696374257625363, 'subsample_bytree': 0.7938117934941191, 'reg_alpha': 0.10442189974167153, 'boosting': 'dart'}.\n",
      "[I 2019-02-26 18:43:08,300] Finished a trial resulted in value: 4.651399349324787. Current best value is 4.4983267531119155 with parameters: {'reg_lambda': 0.01696374257625363, 'subsample_bytree': 0.7938117934941191, 'reg_alpha': 0.10442189974167153, 'boosting': 'dart'}.\n",
      "[I 2019-02-26 18:43:08,734] Finished a trial resulted in value: 17.68158826946272. Current best value is 4.4983267531119155 with parameters: {'reg_lambda': 0.01696374257625363, 'subsample_bytree': 0.7938117934941191, 'reg_alpha': 0.10442189974167153, 'boosting': 'dart'}.\n",
      "[I 2019-02-26 18:43:09,169] Finished a trial resulted in value: 4.552497119788965. Current best value is 4.4983267531119155 with parameters: {'reg_lambda': 0.01696374257625363, 'subsample_bytree': 0.7938117934941191, 'reg_alpha': 0.10442189974167153, 'boosting': 'dart'}.\n",
      "[I 2019-02-26 18:43:09,623] Finished a trial resulted in value: 4.527634116726678. Current best value is 4.4983267531119155 with parameters: {'reg_lambda': 0.01696374257625363, 'subsample_bytree': 0.7938117934941191, 'reg_alpha': 0.10442189974167153, 'boosting': 'dart'}.\n",
      "[I 2019-02-26 18:43:09,918] Finished a trial resulted in value: 4.530975602082867. Current best value is 4.4983267531119155 with parameters: {'reg_lambda': 0.01696374257625363, 'subsample_bytree': 0.7938117934941191, 'reg_alpha': 0.10442189974167153, 'boosting': 'dart'}.\n",
      "[I 2019-02-26 18:43:10,467] Finished a trial resulted in value: 4.521769419980309. Current best value is 4.4983267531119155 with parameters: {'reg_lambda': 0.01696374257625363, 'subsample_bytree': 0.7938117934941191, 'reg_alpha': 0.10442189974167153, 'boosting': 'dart'}.\n",
      "[I 2019-02-26 18:43:10,763] Finished a trial resulted in value: 15.93983177131114. Current best value is 4.4983267531119155 with parameters: {'reg_lambda': 0.01696374257625363, 'subsample_bytree': 0.7938117934941191, 'reg_alpha': 0.10442189974167153, 'boosting': 'dart'}.\n",
      "[I 2019-02-26 18:43:11,327] Finished a trial resulted in value: 4.502968123588993. Current best value is 4.4983267531119155 with parameters: {'reg_lambda': 0.01696374257625363, 'subsample_bytree': 0.7938117934941191, 'reg_alpha': 0.10442189974167153, 'boosting': 'dart'}.\n",
      "[I 2019-02-26 18:43:11,768] Finished a trial resulted in value: 4.491991583552293. Current best value is 4.491991583552293 with parameters: {'reg_lambda': 0.014237010164148765, 'subsample_bytree': 0.5543624521650428, 'reg_alpha': 0.4391253201350782, 'boosting': 'dart'}.\n",
      "[I 2019-02-26 18:43:12,169] Finished a trial resulted in value: 4.506259501195858. Current best value is 4.491991583552293 with parameters: {'reg_lambda': 0.014237010164148765, 'subsample_bytree': 0.5543624521650428, 'reg_alpha': 0.4391253201350782, 'boosting': 'dart'}.\n",
      "[I 2019-02-26 18:43:12,563] Finished a trial resulted in value: 4.509063351724194. Current best value is 4.491991583552293 with parameters: {'reg_lambda': 0.014237010164148765, 'subsample_bytree': 0.5543624521650428, 'reg_alpha': 0.4391253201350782, 'boosting': 'dart'}.\n",
      "[I 2019-02-26 18:43:13,018] Finished a trial resulted in value: 4.5167491944482085. Current best value is 4.491991583552293 with parameters: {'reg_lambda': 0.014237010164148765, 'subsample_bytree': 0.5543624521650428, 'reg_alpha': 0.4391253201350782, 'boosting': 'dart'}.\n",
      "[I 2019-02-26 18:43:13,261] Finished a trial resulted in value: 15.024493055207103. Current best value is 4.491991583552293 with parameters: {'reg_lambda': 0.014237010164148765, 'subsample_bytree': 0.5543624521650428, 'reg_alpha': 0.4391253201350782, 'boosting': 'dart'}.\n",
      "[I 2019-02-26 18:43:13,581] Finished a trial resulted in value: 4.5760852376743735. Current best value is 4.491991583552293 with parameters: {'reg_lambda': 0.014237010164148765, 'subsample_bytree': 0.5543624521650428, 'reg_alpha': 0.4391253201350782, 'boosting': 'dart'}.\n",
      "[I 2019-02-26 18:43:14,009] Finished a trial resulted in value: 4.480039123439948. Current best value is 4.480039123439948 with parameters: {'reg_lambda': 0.0010209197657906795, 'subsample_bytree': 0.871139703827795, 'reg_alpha': 0.1322661370000784, 'boosting': 'dart'}.\n",
      "[I 2019-02-26 18:43:14,297] Finished a trial resulted in value: 4.444804555848971. Current best value is 4.444804555848971 with parameters: {'reg_lambda': 0.0019260298200966953, 'subsample_bytree': 0.9416758638472609, 'reg_alpha': 8.148515352610913, 'boosting': 'dart'}.\n",
      "[I 2019-02-26 18:43:14,610] Finished a trial resulted in value: 4.4956386666821615. Current best value is 4.444804555848971 with parameters: {'reg_lambda': 0.0019260298200966953, 'subsample_bytree': 0.9416758638472609, 'reg_alpha': 8.148515352610913, 'boosting': 'dart'}.\n",
      "[I 2019-02-26 18:43:14,784] Finished a trial resulted in value: 4.682914797766287. Current best value is 4.444804555848971 with parameters: {'reg_lambda': 0.0019260298200966953, 'subsample_bytree': 0.9416758638472609, 'reg_alpha': 8.148515352610913, 'boosting': 'dart'}.\n",
      "[I 2019-02-26 18:43:15,075] Finished a trial resulted in value: 4.5030740308671104. Current best value is 4.444804555848971 with parameters: {'reg_lambda': 0.0019260298200966953, 'subsample_bytree': 0.9416758638472609, 'reg_alpha': 8.148515352610913, 'boosting': 'dart'}.\n",
      "[I 2019-02-26 18:43:15,369] Finished a trial resulted in value: 23.42163263549852. Current best value is 4.444804555848971 with parameters: {'reg_lambda': 0.0019260298200966953, 'subsample_bytree': 0.9416758638472609, 'reg_alpha': 8.148515352610913, 'boosting': 'dart'}.\n",
      "[I 2019-02-26 18:43:15,703] Finished a trial resulted in value: 22.921586975303324. Current best value is 4.444804555848971 with parameters: {'reg_lambda': 0.0019260298200966953, 'subsample_bytree': 0.9416758638472609, 'reg_alpha': 8.148515352610913, 'boosting': 'dart'}.\n"
     ]
    },
    {
     "name": "stderr",
     "output_type": "stream",
     "text": [
      "[I 2019-02-26 18:43:15,854] Finished a trial resulted in value: 8.54982143942257e+37. Current best value is 4.444804555848971 with parameters: {'reg_lambda': 0.0019260298200966953, 'subsample_bytree': 0.9416758638472609, 'reg_alpha': 8.148515352610913, 'boosting': 'dart'}.\n",
      "[I 2019-02-26 18:43:16,173] Finished a trial resulted in value: 4.634390114397578. Current best value is 4.444804555848971 with parameters: {'reg_lambda': 0.0019260298200966953, 'subsample_bytree': 0.9416758638472609, 'reg_alpha': 8.148515352610913, 'boosting': 'dart'}.\n",
      "[I 2019-02-26 18:43:16,318] Finished a trial resulted in value: 1.0421308584325018e+37. Current best value is 4.444804555848971 with parameters: {'reg_lambda': 0.0019260298200966953, 'subsample_bytree': 0.9416758638472609, 'reg_alpha': 8.148515352610913, 'boosting': 'dart'}.\n",
      "[I 2019-02-26 18:43:16,840] Finished a trial resulted in value: 4.521145210621123. Current best value is 4.444804555848971 with parameters: {'reg_lambda': 0.0019260298200966953, 'subsample_bytree': 0.9416758638472609, 'reg_alpha': 8.148515352610913, 'boosting': 'dart'}.\n",
      "[I 2019-02-26 18:43:17,300] Finished a trial resulted in value: 4.51569486249048. Current best value is 4.444804555848971 with parameters: {'reg_lambda': 0.0019260298200966953, 'subsample_bytree': 0.9416758638472609, 'reg_alpha': 8.148515352610913, 'boosting': 'dart'}.\n",
      "[I 2019-02-26 18:43:17,533] Finished a trial resulted in value: 6.699766487225236e+37. Current best value is 4.444804555848971 with parameters: {'reg_lambda': 0.0019260298200966953, 'subsample_bytree': 0.9416758638472609, 'reg_alpha': 8.148515352610913, 'boosting': 'dart'}.\n",
      "[I 2019-02-26 18:43:17,964] Finished a trial resulted in value: 4.545635299542758. Current best value is 4.444804555848971 with parameters: {'reg_lambda': 0.0019260298200966953, 'subsample_bytree': 0.9416758638472609, 'reg_alpha': 8.148515352610913, 'boosting': 'dart'}.\n",
      "[I 2019-02-26 18:43:18,219] Finished a trial resulted in value: 4.608587223698454. Current best value is 4.444804555848971 with parameters: {'reg_lambda': 0.0019260298200966953, 'subsample_bytree': 0.9416758638472609, 'reg_alpha': 8.148515352610913, 'boosting': 'dart'}.\n",
      "[I 2019-02-26 18:43:18,434] Finished a trial resulted in value: 1.5204874743521587e+37. Current best value is 4.444804555848971 with parameters: {'reg_lambda': 0.0019260298200966953, 'subsample_bytree': 0.9416758638472609, 'reg_alpha': 8.148515352610913, 'boosting': 'dart'}.\n",
      "[I 2019-02-26 18:43:18,870] Finished a trial resulted in value: 4.491569513867308. Current best value is 4.444804555848971 with parameters: {'reg_lambda': 0.0019260298200966953, 'subsample_bytree': 0.9416758638472609, 'reg_alpha': 8.148515352610913, 'boosting': 'dart'}.\n",
      "[I 2019-02-26 18:43:19,148] Finished a trial resulted in value: 4.636278182319929. Current best value is 4.444804555848971 with parameters: {'reg_lambda': 0.0019260298200966953, 'subsample_bytree': 0.9416758638472609, 'reg_alpha': 8.148515352610913, 'boosting': 'dart'}.\n",
      "[I 2019-02-26 18:43:19,320] Finished a trial resulted in value: 5.225114345380853e+37. Current best value is 4.444804555848971 with parameters: {'reg_lambda': 0.0019260298200966953, 'subsample_bytree': 0.9416758638472609, 'reg_alpha': 8.148515352610913, 'boosting': 'dart'}.\n",
      "[I 2019-02-26 18:43:19,763] Finished a trial resulted in value: 4.498456923749889. Current best value is 4.444804555848971 with parameters: {'reg_lambda': 0.0019260298200966953, 'subsample_bytree': 0.9416758638472609, 'reg_alpha': 8.148515352610913, 'boosting': 'dart'}.\n",
      "[I 2019-02-26 18:43:20,134] Finished a trial resulted in value: 4.561261540403718. Current best value is 4.444804555848971 with parameters: {'reg_lambda': 0.0019260298200966953, 'subsample_bytree': 0.9416758638472609, 'reg_alpha': 8.148515352610913, 'boosting': 'dart'}.\n",
      "[I 2019-02-26 18:43:20,636] Finished a trial resulted in value: 4.516551593081062. Current best value is 4.444804555848971 with parameters: {'reg_lambda': 0.0019260298200966953, 'subsample_bytree': 0.9416758638472609, 'reg_alpha': 8.148515352610913, 'boosting': 'dart'}.\n",
      "[I 2019-02-26 18:43:20,759] Finished a trial resulted in value: 4.701669194400825. Current best value is 4.444804555848971 with parameters: {'reg_lambda': 0.0019260298200966953, 'subsample_bytree': 0.9416758638472609, 'reg_alpha': 8.148515352610913, 'boosting': 'dart'}.\n",
      "[I 2019-02-26 18:43:20,892] Finished a trial resulted in value: 2.288433346764728e+37. Current best value is 4.444804555848971 with parameters: {'reg_lambda': 0.0019260298200966953, 'subsample_bytree': 0.9416758638472609, 'reg_alpha': 8.148515352610913, 'boosting': 'dart'}.\n",
      "[I 2019-02-26 18:43:21,282] Finished a trial resulted in value: 4.4954177213247215. Current best value is 4.444804555848971 with parameters: {'reg_lambda': 0.0019260298200966953, 'subsample_bytree': 0.9416758638472609, 'reg_alpha': 8.148515352610913, 'boosting': 'dart'}.\n",
      "[I 2019-02-26 18:43:21,627] Finished a trial resulted in value: 4.520363982238143. Current best value is 4.444804555848971 with parameters: {'reg_lambda': 0.0019260298200966953, 'subsample_bytree': 0.9416758638472609, 'reg_alpha': 8.148515352610913, 'boosting': 'dart'}.\n",
      "[I 2019-02-26 18:43:21,864] Finished a trial resulted in value: 7.113140720115224. Current best value is 4.444804555848971 with parameters: {'reg_lambda': 0.0019260298200966953, 'subsample_bytree': 0.9416758638472609, 'reg_alpha': 8.148515352610913, 'boosting': 'dart'}.\n"
     ]
    }
   ],
   "source": [
    "study_lgbm.optimize(lgbm_objective, n_trials=50)"
   ]
  },
  {
   "cell_type": "code",
   "execution_count": 26,
   "metadata": {},
   "outputs": [
    {
     "data": {
      "text/html": [
       "<div>\n",
       "<style scoped>\n",
       "    .dataframe tbody tr th:only-of-type {\n",
       "        vertical-align: middle;\n",
       "    }\n",
       "\n",
       "    .dataframe tbody tr th {\n",
       "        vertical-align: top;\n",
       "    }\n",
       "\n",
       "    .dataframe thead tr th {\n",
       "        text-align: left;\n",
       "    }\n",
       "</style>\n",
       "<table border=\"1\" class=\"dataframe\">\n",
       "  <thead>\n",
       "    <tr>\n",
       "      <th></th>\n",
       "      <th>trial_id</th>\n",
       "      <th>state</th>\n",
       "      <th>value</th>\n",
       "      <th>datetime_start</th>\n",
       "      <th>datetime_complete</th>\n",
       "      <th colspan=\"4\" halign=\"left\">params</th>\n",
       "    </tr>\n",
       "    <tr>\n",
       "      <th></th>\n",
       "      <th></th>\n",
       "      <th></th>\n",
       "      <th></th>\n",
       "      <th></th>\n",
       "      <th></th>\n",
       "      <th>boosting</th>\n",
       "      <th>reg_alpha</th>\n",
       "      <th>reg_lambda</th>\n",
       "      <th>subsample_bytree</th>\n",
       "    </tr>\n",
       "  </thead>\n",
       "  <tbody>\n",
       "    <tr>\n",
       "      <th>24</th>\n",
       "      <td>24</td>\n",
       "      <td>TrialState.COMPLETE</td>\n",
       "      <td>4.444805</td>\n",
       "      <td>2019-02-26 18:43:14.011253</td>\n",
       "      <td>2019-02-26 18:43:14.294450</td>\n",
       "      <td>dart</td>\n",
       "      <td>8.148515</td>\n",
       "      <td>0.001926</td>\n",
       "      <td>0.941676</td>\n",
       "    </tr>\n",
       "    <tr>\n",
       "      <th>23</th>\n",
       "      <td>23</td>\n",
       "      <td>TrialState.COMPLETE</td>\n",
       "      <td>4.480039</td>\n",
       "      <td>2019-02-26 18:43:13.583326</td>\n",
       "      <td>2019-02-26 18:43:14.006584</td>\n",
       "      <td>dart</td>\n",
       "      <td>0.132266</td>\n",
       "      <td>0.001021</td>\n",
       "      <td>0.871140</td>\n",
       "    </tr>\n",
       "    <tr>\n",
       "      <th>39</th>\n",
       "      <td>39</td>\n",
       "      <td>TrialState.COMPLETE</td>\n",
       "      <td>4.491570</td>\n",
       "      <td>2019-02-26 18:43:18.438442</td>\n",
       "      <td>2019-02-26 18:43:18.866774</td>\n",
       "      <td>dart</td>\n",
       "      <td>0.003517</td>\n",
       "      <td>0.229400</td>\n",
       "      <td>0.999888</td>\n",
       "    </tr>\n",
       "    <tr>\n",
       "      <th>17</th>\n",
       "      <td>17</td>\n",
       "      <td>TrialState.COMPLETE</td>\n",
       "      <td>4.491992</td>\n",
       "      <td>2019-02-26 18:43:11.329845</td>\n",
       "      <td>2019-02-26 18:43:11.766112</td>\n",
       "      <td>dart</td>\n",
       "      <td>0.439125</td>\n",
       "      <td>0.014237</td>\n",
       "      <td>0.554362</td>\n",
       "    </tr>\n",
       "    <tr>\n",
       "      <th>47</th>\n",
       "      <td>47</td>\n",
       "      <td>TrialState.COMPLETE</td>\n",
       "      <td>4.495418</td>\n",
       "      <td>2019-02-26 18:43:20.897896</td>\n",
       "      <td>2019-02-26 18:43:21.277138</td>\n",
       "      <td>dart</td>\n",
       "      <td>0.001114</td>\n",
       "      <td>0.007949</td>\n",
       "      <td>0.854646</td>\n",
       "    </tr>\n",
       "  </tbody>\n",
       "</table>\n",
       "</div>"
      ],
      "text/plain": [
       "   trial_id                state     value             datetime_start  \\\n",
       "                                                                        \n",
       "24       24  TrialState.COMPLETE  4.444805 2019-02-26 18:43:14.011253   \n",
       "23       23  TrialState.COMPLETE  4.480039 2019-02-26 18:43:13.583326   \n",
       "39       39  TrialState.COMPLETE  4.491570 2019-02-26 18:43:18.438442   \n",
       "17       17  TrialState.COMPLETE  4.491992 2019-02-26 18:43:11.329845   \n",
       "47       47  TrialState.COMPLETE  4.495418 2019-02-26 18:43:20.897896   \n",
       "\n",
       "            datetime_complete   params                                        \n",
       "                              boosting reg_alpha reg_lambda subsample_bytree  \n",
       "24 2019-02-26 18:43:14.294450     dart  8.148515   0.001926         0.941676  \n",
       "23 2019-02-26 18:43:14.006584     dart  0.132266   0.001021         0.871140  \n",
       "39 2019-02-26 18:43:18.866774     dart  0.003517   0.229400         0.999888  \n",
       "17 2019-02-26 18:43:11.766112     dart  0.439125   0.014237         0.554362  \n",
       "47 2019-02-26 18:43:21.277138     dart  0.001114   0.007949         0.854646  "
      ]
     },
     "execution_count": 26,
     "metadata": {},
     "output_type": "execute_result"
    }
   ],
   "source": [
    "study_lgbm.trials_dataframe().sort_values('value').head()"
   ]
  }
 ],
 "metadata": {
  "kernelspec": {
   "display_name": "Python 3",
   "language": "python",
   "name": "python3"
  },
  "language_info": {
   "codemirror_mode": {
    "name": "ipython",
    "version": 3
   },
   "file_extension": ".py",
   "mimetype": "text/x-python",
   "name": "python",
   "nbconvert_exporter": "python",
   "pygments_lexer": "ipython3",
   "version": "3.5.2"
  }
 },
 "nbformat": 4,
 "nbformat_minor": 2
}
